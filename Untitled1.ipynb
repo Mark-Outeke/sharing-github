{
 "cells": [
  {
   "cell_type": "code",
   "execution_count": 1,
   "id": "142d6902",
   "metadata": {},
   "outputs": [
    {
     "ename": "ModuleNotFoundError",
     "evalue": "No module named 'dash'",
     "output_type": "error",
     "traceback": [
      "\u001b[1;31m---------------------------------------------------------------------------\u001b[0m",
      "\u001b[1;31mModuleNotFoundError\u001b[0m                       Traceback (most recent call last)",
      "\u001b[1;32m<ipython-input-1-4fea010b9b37>\u001b[0m in \u001b[0;36m<module>\u001b[1;34m\u001b[0m\n\u001b[0;32m      2\u001b[0m \u001b[1;32mimport\u001b[0m \u001b[0mpandas\u001b[0m \u001b[1;32mas\u001b[0m \u001b[0mpd\u001b[0m\u001b[1;33m\u001b[0m\u001b[1;33m\u001b[0m\u001b[0m\n\u001b[0;32m      3\u001b[0m \u001b[1;32mimport\u001b[0m \u001b[0mplotly\u001b[0m\u001b[1;33m.\u001b[0m\u001b[0mexpress\u001b[0m \u001b[1;32mas\u001b[0m \u001b[0mpx\u001b[0m\u001b[1;33m\u001b[0m\u001b[1;33m\u001b[0m\u001b[0m\n\u001b[1;32m----> 4\u001b[1;33m \u001b[1;32mimport\u001b[0m \u001b[0mdash\u001b[0m\u001b[1;33m\u001b[0m\u001b[1;33m\u001b[0m\u001b[0m\n\u001b[0m\u001b[0;32m      5\u001b[0m \u001b[1;32mimport\u001b[0m \u001b[0mdash_html_components\u001b[0m \u001b[1;32mas\u001b[0m \u001b[0mhtml\u001b[0m\u001b[1;33m\u001b[0m\u001b[1;33m\u001b[0m\u001b[0m\n\u001b[0;32m      6\u001b[0m \u001b[1;32mimport\u001b[0m \u001b[0mdash_core_components\u001b[0m \u001b[1;32mas\u001b[0m \u001b[0mdcc\u001b[0m\u001b[1;33m\u001b[0m\u001b[1;33m\u001b[0m\u001b[0m\n",
      "\u001b[1;31mModuleNotFoundError\u001b[0m: No module named 'dash'"
     ]
    }
   ],
   "source": [
    "# Import required packages\n",
    "import pandas as pd\n",
    "import plotly.express as px\n",
    "import dash\n",
    "import dash_html_components as html\n",
    "import dash_core_components as dcc\n",
    "\n",
    "# Read the airline data into pandas dataframe\n",
    "airline_data =  pd.read_csv('https://cf-courses-data.s3.us.cloud-object-storage.appdomain.cloud/IBMDeveloperSkillsNetwork-DV0101EN-SkillsNetwork/Data%20Files/airline_data.csv', \n",
    "                            encoding = \"ISO-8859-1\",\n",
    "                            dtype={'Div1Airport': str, 'Div1TailNum': str, \n",
    "                                   'Div2Airport': str, 'Div2TailNum': str})\n",
    "\n",
    "# Randomly sample 500 data points. Setting the random state to be 42 so that we get same result.\n",
    "data = airline_data.sample(n=500, random_state=42)\n",
    "\n",
    "# Pie Chart Creation\n",
    "fig = px.pie(data, values='Flights', names='DistanceGroup', title='Distance group proportion by flights')"
   ]
  },
  {
   "cell_type": "code",
   "execution_count": 2,
   "id": "df25697e",
   "metadata": {},
   "outputs": [
    {
     "name": "stdout",
     "output_type": "stream",
     "text": [
      "Collecting dash\n",
      "  Downloading dash-2.0.0-py3-none-any.whl (7.3 MB)\n",
      "Requirement already satisfied: Flask>=1.0.4 in c:\\users\\ddax\\anaconda3\\lib\\site-packages (from dash) (1.1.2)\n",
      "Collecting dash-core-components==2.0.0\n",
      "  Downloading dash_core_components-2.0.0.tar.gz (3.4 kB)\n",
      "Collecting dash-table==5.0.0\n",
      "  Downloading dash_table-5.0.0.tar.gz (3.4 kB)\n",
      "Collecting flask-compress\n",
      "  Downloading Flask_Compress-1.10.1-py3-none-any.whl (7.9 kB)\n",
      "Collecting dash-html-components==2.0.0\n",
      "  Downloading dash_html_components-2.0.0.tar.gz (3.8 kB)\n",
      "Collecting plotly>=5.0.0\n",
      "  Downloading plotly-5.3.1-py2.py3-none-any.whl (23.9 MB)\n",
      "Requirement already satisfied: itsdangerous>=0.24 in c:\\users\\ddax\\anaconda3\\lib\\site-packages (from Flask>=1.0.4->dash) (1.1.0)\n",
      "Requirement already satisfied: Jinja2>=2.10.1 in c:\\users\\ddax\\anaconda3\\lib\\site-packages (from Flask>=1.0.4->dash) (2.11.3)\n",
      "Requirement already satisfied: Werkzeug>=0.15 in c:\\users\\ddax\\anaconda3\\lib\\site-packages (from Flask>=1.0.4->dash) (1.0.1)\n",
      "Requirement already satisfied: click>=5.1 in c:\\users\\ddax\\anaconda3\\lib\\site-packages (from Flask>=1.0.4->dash) (7.1.2)\n",
      "Requirement already satisfied: MarkupSafe>=0.23 in c:\\users\\ddax\\anaconda3\\lib\\site-packages (from Jinja2>=2.10.1->Flask>=1.0.4->dash) (1.1.1)\n",
      "Collecting tenacity>=6.2.0\n",
      "  Downloading tenacity-8.0.1-py3-none-any.whl (24 kB)\n",
      "Requirement already satisfied: six in c:\\users\\ddax\\anaconda3\\lib\\site-packages (from plotly>=5.0.0->dash) (1.15.0)\n",
      "Collecting brotli\n",
      "  Downloading Brotli-1.0.9-cp38-cp38-win_amd64.whl (365 kB)\n",
      "Building wheels for collected packages: dash-core-components, dash-html-components, dash-table\n",
      "  Building wheel for dash-core-components (setup.py): started\n",
      "  Building wheel for dash-core-components (setup.py): finished with status 'done'\n",
      "  Created wheel for dash-core-components: filename=dash_core_components-2.0.0-py3-none-any.whl size=3803 sha256=133f2d6557cbc646313ca764e2f93221c046340a511a0db9ad6711e9616768ab\n",
      "  Stored in directory: c:\\users\\ddax\\appdata\\local\\pip\\cache\\wheels\\52\\e4\\f3\\16724791571a955a46d54650510c98c04ab7d339626aee27cc\n",
      "  Building wheel for dash-html-components (setup.py): started\n",
      "  Building wheel for dash-html-components (setup.py): finished with status 'done'\n",
      "  Created wheel for dash-html-components: filename=dash_html_components-2.0.0-py3-none-any.whl size=4071 sha256=a07be3afa810501f9616a83d3dbb32ab6080246dec1178e81f9774362c86d3e7\n",
      "  Stored in directory: c:\\users\\ddax\\appdata\\local\\pip\\cache\\wheels\\73\\d8\\8d\\92f612c03c895f19bcc56a6c54be7bb41aaa698012a5624f60\n",
      "  Building wheel for dash-table (setup.py): started\n",
      "  Building wheel for dash-table (setup.py): finished with status 'done'\n",
      "  Created wheel for dash-table: filename=dash_table-5.0.0-py3-none-any.whl size=3896 sha256=8118cbbe251387fbb261e818adaf0f38a72c0b286bbf7f7efc5e0e0f6793f095\n",
      "  Stored in directory: c:\\users\\ddax\\appdata\\local\\pip\\cache\\wheels\\a6\\fb\\f5\\4adf241f384634f52028f15eab6a325e77b8766a0a00816bbf\n",
      "Successfully built dash-core-components dash-html-components dash-table\n",
      "Installing collected packages: tenacity, brotli, plotly, flask-compress, dash-table, dash-html-components, dash-core-components, dash\n",
      "  Attempting uninstall: plotly\n",
      "    Found existing installation: plotly 4.8.1\n",
      "    Uninstalling plotly-4.8.1:\n",
      "      Successfully uninstalled plotly-4.8.1\n",
      "Successfully installed brotli-1.0.9 dash-2.0.0 dash-core-components-2.0.0 dash-html-components-2.0.0 dash-table-5.0.0 flask-compress-1.10.1 plotly-5.3.1 tenacity-8.0.1\n"
     ]
    },
    {
     "name": "stderr",
     "output_type": "stream",
     "text": [
      "WARNING: Retrying (Retry(total=4, connect=None, read=None, redirect=None, status=None)) after connection broken by 'ReadTimeoutError(\"HTTPSConnectionPool(host='pypi.org', port=443): Read timed out. (read timeout=15)\")': /simple/tenacity/\n"
     ]
    }
   ],
   "source": [
    "!pip install dash"
   ]
  },
  {
   "cell_type": "code",
   "execution_count": 5,
   "id": "b2b76212",
   "metadata": {},
   "outputs": [
    {
     "ename": "ImportError",
     "evalue": "cannot import name 'dash_html_components' from 'dash' (C:\\Users\\DDAX\\anaconda3\\lib\\site-packages\\dash\\__init__.py)",
     "output_type": "error",
     "traceback": [
      "\u001b[1;31m---------------------------------------------------------------------------\u001b[0m",
      "\u001b[1;31mImportError\u001b[0m                               Traceback (most recent call last)",
      "\u001b[1;32m<ipython-input-5-ddfd7c61d446>\u001b[0m in \u001b[0;36m<module>\u001b[1;34m\u001b[0m\n\u001b[0;32m      3\u001b[0m \u001b[1;32mimport\u001b[0m \u001b[0mplotly\u001b[0m\u001b[1;33m.\u001b[0m\u001b[0mexpress\u001b[0m \u001b[1;32mas\u001b[0m \u001b[0mpx\u001b[0m\u001b[1;33m\u001b[0m\u001b[1;33m\u001b[0m\u001b[0m\n\u001b[0;32m      4\u001b[0m \u001b[1;32mimport\u001b[0m \u001b[0mdash\u001b[0m\u001b[1;33m\u001b[0m\u001b[1;33m\u001b[0m\u001b[0m\n\u001b[1;32m----> 5\u001b[1;33m \u001b[1;32mfrom\u001b[0m \u001b[0mdash\u001b[0m \u001b[1;32mimport\u001b[0m \u001b[0mdash_html_components\u001b[0m \u001b[1;32mas\u001b[0m \u001b[0mhtml\u001b[0m\u001b[1;33m\u001b[0m\u001b[1;33m\u001b[0m\u001b[0m\n\u001b[0m\u001b[0;32m      6\u001b[0m \u001b[1;32mimport\u001b[0m \u001b[0mdash_core_components\u001b[0m \u001b[1;32mas\u001b[0m \u001b[0mdcc\u001b[0m\u001b[1;33m\u001b[0m\u001b[1;33m\u001b[0m\u001b[0m\n\u001b[0;32m      7\u001b[0m \u001b[1;33m\u001b[0m\u001b[0m\n",
      "\u001b[1;31mImportError\u001b[0m: cannot import name 'dash_html_components' from 'dash' (C:\\Users\\DDAX\\anaconda3\\lib\\site-packages\\dash\\__init__.py)"
     ]
    }
   ],
   "source": [
    "# Import required packages\n",
    "import pandas as pd\n",
    "import plotly.express as px\n",
    "import dash\n",
    "from dash import dash_html_components as html\n",
    "import dash_core_components as dcc\n",
    "\n",
    "# Read the airline data into pandas dataframe\n",
    "airline_data =  pd.read_csv('https://cf-courses-data.s3.us.cloud-object-storage.appdomain.cloud/IBMDeveloperSkillsNetwork-DV0101EN-SkillsNetwork/Data%20Files/airline_data.csv', \n",
    "                            encoding = \"ISO-8859-1\",\n",
    "                            dtype={'Div1Airport': str, 'Div1TailNum': str, \n",
    "                                   'Div2Airport': str, 'Div2TailNum': str})\n",
    "\n",
    "# Randomly sample 500 data points. Setting the random state to be 42 so that we get same result.\n",
    "data = airline_data.sample(n=500, random_state=42)\n",
    "\n",
    "# Pie Chart Creation\n",
    "fig = px.pie(data, values='Flights', names='DistanceGroup', title='Distance group proportion by flights')"
   ]
  },
  {
   "cell_type": "code",
   "execution_count": null,
   "id": "1b69bdbd",
   "metadata": {},
   "outputs": [],
   "source": []
  }
 ],
 "metadata": {
  "kernelspec": {
   "display_name": "Python 3",
   "language": "python",
   "name": "python3"
  },
  "language_info": {
   "codemirror_mode": {
    "name": "ipython",
    "version": 3
   },
   "file_extension": ".py",
   "mimetype": "text/x-python",
   "name": "python",
   "nbconvert_exporter": "python",
   "pygments_lexer": "ipython3",
   "version": "3.8.8"
  }
 },
 "nbformat": 4,
 "nbformat_minor": 5
}
